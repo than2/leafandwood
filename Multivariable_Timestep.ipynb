{
 "cells": [
  {
   "cell_type": "code",
   "execution_count": 1,
   "id": "ed4ebbaa",
   "metadata": {
    "ExecuteTime": {
     "end_time": "2022-07-01T03:09:33.447713Z",
     "start_time": "2022-07-01T03:09:18.378982Z"
    }
   },
   "outputs": [],
   "source": [
    "from tsai.all import *\n",
    "import tensorflow as tf\n",
    "from tensorflow import keras\n",
    "import tempfile\n",
    "import matplotlib as mpl\n",
    "import seaborn as sns\n",
    "import matplotlib.pyplot as plt\n",
    "import sklearn\n",
    "from sklearn.metrics import confusion_matrix\n",
    "from sklearn.model_selection import train_test_split\n",
    "from sklearn.preprocessing import StandardScaler\n",
    "import datetime\n",
    "from sklearn.model_selection import StratifiedKFold\n",
    "from sklearn.metrics import classification_report, accuracy_score, f1_score, precision_score, confusion_matrix"
   ]
  },
  {
   "cell_type": "code",
   "execution_count": 2,
   "id": "63cd05f2",
   "metadata": {
    "ExecuteTime": {
     "end_time": "2022-07-01T03:09:33.524456Z",
     "start_time": "2022-07-01T03:09:33.511491Z"
    }
   },
   "outputs": [],
   "source": [
    "mpl.rcParams['figure.figsize'] = (12, 10)\n",
    "colors = plt.rcParams['axes.prop_cycle'].by_key()['color']"
   ]
  },
  {
   "cell_type": "code",
   "execution_count": 3,
   "id": "874d5ab0",
   "metadata": {
    "ExecuteTime": {
     "end_time": "2022-07-01T03:09:36.202574Z",
     "start_time": "2022-07-01T03:09:33.588289Z"
    }
   },
   "outputs": [],
   "source": [
    "path = r\"./three_training.txt\"\n",
    "Training_timestep = pd.read_csv(path, sep = \" \")\n",
    "Training = pd.DataFrame(Training_timestep)\n",
    "Training_copy = Training.copy()"
   ]
  },
  {
   "cell_type": "code",
   "execution_count": 4,
   "id": "4ab136e0",
   "metadata": {
    "ExecuteTime": {
     "end_time": "2022-07-01T03:09:37.219819Z",
     "start_time": "2022-07-01T03:09:37.158475Z"
    }
   },
   "outputs": [],
   "source": [
    "training = Training_copy.iloc[:, 5:]"
   ]
  },
  {
   "cell_type": "code",
   "execution_count": 7,
   "id": "d180b13b",
   "metadata": {
    "ExecuteTime": {
     "end_time": "2022-07-01T03:10:18.142711Z",
     "start_time": "2022-07-01T03:10:17.890386Z"
    }
   },
   "outputs": [
    {
     "data": {
      "text/html": [
       "<div>\n",
       "<style scoped>\n",
       "    .dataframe tbody tr th:only-of-type {\n",
       "        vertical-align: middle;\n",
       "    }\n",
       "\n",
       "    .dataframe tbody tr th {\n",
       "        vertical-align: top;\n",
       "    }\n",
       "\n",
       "    .dataframe thead th {\n",
       "        text-align: right;\n",
       "    }\n",
       "</style>\n",
       "<table border=\"1\" class=\"dataframe\">\n",
       "  <thead>\n",
       "    <tr style=\"text-align: right;\">\n",
       "      <th></th>\n",
       "      <th>ID</th>\n",
       "      <th>Feature</th>\n",
       "      <th>X</th>\n",
       "      <th>Y</th>\n",
       "      <th>Z</th>\n",
       "      <th>0.05</th>\n",
       "      <th>0.1</th>\n",
       "      <th>0.15</th>\n",
       "      <th>0.2</th>\n",
       "      <th>0.25</th>\n",
       "      <th>...</th>\n",
       "      <th>0.6</th>\n",
       "      <th>0.65</th>\n",
       "      <th>0.7</th>\n",
       "      <th>0.75</th>\n",
       "      <th>0.8</th>\n",
       "      <th>0.85</th>\n",
       "      <th>0.9</th>\n",
       "      <th>0.95</th>\n",
       "      <th>1</th>\n",
       "      <th>Label</th>\n",
       "    </tr>\n",
       "  </thead>\n",
       "  <tbody>\n",
       "    <tr>\n",
       "      <th>0</th>\n",
       "      <td>1.0</td>\n",
       "      <td>eet</td>\n",
       "      <td>-1.217015</td>\n",
       "      <td>9.605834</td>\n",
       "      <td>12.868542</td>\n",
       "      <td>0.009123</td>\n",
       "      <td>0.028492</td>\n",
       "      <td>0.048137</td>\n",
       "      <td>0.072138</td>\n",
       "      <td>0.111565</td>\n",
       "      <td>...</td>\n",
       "      <td>0.493622</td>\n",
       "      <td>0.551709</td>\n",
       "      <td>0.611433</td>\n",
       "      <td>0.660348</td>\n",
       "      <td>0.698846</td>\n",
       "      <td>0.733547</td>\n",
       "      <td>0.776131</td>\n",
       "      <td>0.827058</td>\n",
       "      <td>0.871621</td>\n",
       "      <td>1</td>\n",
       "    </tr>\n",
       "    <tr>\n",
       "      <th>1</th>\n",
       "      <td>1.0</td>\n",
       "      <td>pln</td>\n",
       "      <td>-1.217015</td>\n",
       "      <td>9.605834</td>\n",
       "      <td>12.868542</td>\n",
       "      <td>0.504139</td>\n",
       "      <td>0.718633</td>\n",
       "      <td>0.581406</td>\n",
       "      <td>0.353408</td>\n",
       "      <td>0.200452</td>\n",
       "      <td>...</td>\n",
       "      <td>0.086507</td>\n",
       "      <td>0.106281</td>\n",
       "      <td>0.146510</td>\n",
       "      <td>0.150176</td>\n",
       "      <td>0.162844</td>\n",
       "      <td>0.174045</td>\n",
       "      <td>0.198820</td>\n",
       "      <td>0.221131</td>\n",
       "      <td>0.248961</td>\n",
       "      <td>1</td>\n",
       "    </tr>\n",
       "    <tr>\n",
       "      <th>2</th>\n",
       "      <td>1.0</td>\n",
       "      <td>lnr</td>\n",
       "      <td>-1.217015</td>\n",
       "      <td>9.605834</td>\n",
       "      <td>12.868542</td>\n",
       "      <td>0.228755</td>\n",
       "      <td>0.087486</td>\n",
       "      <td>0.307852</td>\n",
       "      <td>0.526284</td>\n",
       "      <td>0.623806</td>\n",
       "      <td>...</td>\n",
       "      <td>0.502120</td>\n",
       "      <td>0.513251</td>\n",
       "      <td>0.514513</td>\n",
       "      <td>0.546258</td>\n",
       "      <td>0.554900</td>\n",
       "      <td>0.560645</td>\n",
       "      <td>0.541777</td>\n",
       "      <td>0.507077</td>\n",
       "      <td>0.465792</td>\n",
       "      <td>1</td>\n",
       "    </tr>\n",
       "    <tr>\n",
       "      <th>3</th>\n",
       "      <td>2.0</td>\n",
       "      <td>eet</td>\n",
       "      <td>5.614500</td>\n",
       "      <td>7.809000</td>\n",
       "      <td>12.703750</td>\n",
       "      <td>0.009634</td>\n",
       "      <td>0.027650</td>\n",
       "      <td>0.057777</td>\n",
       "      <td>0.092929</td>\n",
       "      <td>0.129222</td>\n",
       "      <td>...</td>\n",
       "      <td>0.405972</td>\n",
       "      <td>0.487673</td>\n",
       "      <td>0.544681</td>\n",
       "      <td>0.588438</td>\n",
       "      <td>0.636624</td>\n",
       "      <td>0.681728</td>\n",
       "      <td>0.715538</td>\n",
       "      <td>0.747381</td>\n",
       "      <td>0.786171</td>\n",
       "      <td>1</td>\n",
       "    </tr>\n",
       "    <tr>\n",
       "      <th>4</th>\n",
       "      <td>2.0</td>\n",
       "      <td>pln</td>\n",
       "      <td>5.614500</td>\n",
       "      <td>7.809000</td>\n",
       "      <td>12.703750</td>\n",
       "      <td>0.605983</td>\n",
       "      <td>0.749310</td>\n",
       "      <td>0.314200</td>\n",
       "      <td>0.221937</td>\n",
       "      <td>0.398596</td>\n",
       "      <td>...</td>\n",
       "      <td>0.262406</td>\n",
       "      <td>0.169332</td>\n",
       "      <td>0.111424</td>\n",
       "      <td>0.136674</td>\n",
       "      <td>0.214696</td>\n",
       "      <td>0.267766</td>\n",
       "      <td>0.350590</td>\n",
       "      <td>0.460112</td>\n",
       "      <td>0.486856</td>\n",
       "      <td>1</td>\n",
       "    </tr>\n",
       "    <tr>\n",
       "      <th>...</th>\n",
       "      <td>...</td>\n",
       "      <td>...</td>\n",
       "      <td>...</td>\n",
       "      <td>...</td>\n",
       "      <td>...</td>\n",
       "      <td>...</td>\n",
       "      <td>...</td>\n",
       "      <td>...</td>\n",
       "      <td>...</td>\n",
       "      <td>...</td>\n",
       "      <td>...</td>\n",
       "      <td>...</td>\n",
       "      <td>...</td>\n",
       "      <td>...</td>\n",
       "      <td>...</td>\n",
       "      <td>...</td>\n",
       "      <td>...</td>\n",
       "      <td>...</td>\n",
       "      <td>...</td>\n",
       "      <td>...</td>\n",
       "      <td>...</td>\n",
       "    </tr>\n",
       "    <tr>\n",
       "      <th>959995</th>\n",
       "      <td>319999.0</td>\n",
       "      <td>pln</td>\n",
       "      <td>-28.999500</td>\n",
       "      <td>12.733000</td>\n",
       "      <td>13.964000</td>\n",
       "      <td>0.354523</td>\n",
       "      <td>0.306881</td>\n",
       "      <td>0.304572</td>\n",
       "      <td>0.262041</td>\n",
       "      <td>0.270267</td>\n",
       "      <td>...</td>\n",
       "      <td>0.105064</td>\n",
       "      <td>0.063420</td>\n",
       "      <td>0.066048</td>\n",
       "      <td>0.220701</td>\n",
       "      <td>0.244300</td>\n",
       "      <td>0.265468</td>\n",
       "      <td>0.278936</td>\n",
       "      <td>0.316067</td>\n",
       "      <td>0.332315</td>\n",
       "      <td>1</td>\n",
       "    </tr>\n",
       "    <tr>\n",
       "      <th>959996</th>\n",
       "      <td>319999.0</td>\n",
       "      <td>lnr</td>\n",
       "      <td>-28.999500</td>\n",
       "      <td>12.733000</td>\n",
       "      <td>13.964000</td>\n",
       "      <td>0.099792</td>\n",
       "      <td>0.297157</td>\n",
       "      <td>0.260421</td>\n",
       "      <td>0.406861</td>\n",
       "      <td>0.375552</td>\n",
       "      <td>...</td>\n",
       "      <td>0.577973</td>\n",
       "      <td>0.607442</td>\n",
       "      <td>0.575644</td>\n",
       "      <td>0.425919</td>\n",
       "      <td>0.391237</td>\n",
       "      <td>0.343409</td>\n",
       "      <td>0.263866</td>\n",
       "      <td>0.172647</td>\n",
       "      <td>0.130121</td>\n",
       "      <td>1</td>\n",
       "    </tr>\n",
       "    <tr>\n",
       "      <th>959997</th>\n",
       "      <td>320000.0</td>\n",
       "      <td>eet</td>\n",
       "      <td>-2.114515</td>\n",
       "      <td>7.881634</td>\n",
       "      <td>10.915292</td>\n",
       "      <td>0.010208</td>\n",
       "      <td>0.033108</td>\n",
       "      <td>0.056588</td>\n",
       "      <td>0.085469</td>\n",
       "      <td>0.118940</td>\n",
       "      <td>...</td>\n",
       "      <td>0.470754</td>\n",
       "      <td>0.520687</td>\n",
       "      <td>0.577135</td>\n",
       "      <td>0.637429</td>\n",
       "      <td>0.694187</td>\n",
       "      <td>0.739115</td>\n",
       "      <td>0.775346</td>\n",
       "      <td>0.808241</td>\n",
       "      <td>0.841436</td>\n",
       "      <td>1</td>\n",
       "    </tr>\n",
       "    <tr>\n",
       "      <th>959998</th>\n",
       "      <td>320000.0</td>\n",
       "      <td>pln</td>\n",
       "      <td>-2.114515</td>\n",
       "      <td>7.881634</td>\n",
       "      <td>10.915292</td>\n",
       "      <td>0.556721</td>\n",
       "      <td>0.279945</td>\n",
       "      <td>0.286952</td>\n",
       "      <td>0.235921</td>\n",
       "      <td>0.196030</td>\n",
       "      <td>...</td>\n",
       "      <td>0.367097</td>\n",
       "      <td>0.296408</td>\n",
       "      <td>0.196038</td>\n",
       "      <td>0.115270</td>\n",
       "      <td>0.204719</td>\n",
       "      <td>0.269311</td>\n",
       "      <td>0.311610</td>\n",
       "      <td>0.335434</td>\n",
       "      <td>0.340747</td>\n",
       "      <td>1</td>\n",
       "    </tr>\n",
       "    <tr>\n",
       "      <th>959999</th>\n",
       "      <td>320000.0</td>\n",
       "      <td>lnr</td>\n",
       "      <td>-2.114515</td>\n",
       "      <td>7.881634</td>\n",
       "      <td>10.915292</td>\n",
       "      <td>0.045290</td>\n",
       "      <td>0.291880</td>\n",
       "      <td>0.375655</td>\n",
       "      <td>0.492688</td>\n",
       "      <td>0.591413</td>\n",
       "      <td>...</td>\n",
       "      <td>0.121591</td>\n",
       "      <td>0.199223</td>\n",
       "      <td>0.273165</td>\n",
       "      <td>0.327681</td>\n",
       "      <td>0.253832</td>\n",
       "      <td>0.208747</td>\n",
       "      <td>0.174849</td>\n",
       "      <td>0.144963</td>\n",
       "      <td>0.137655</td>\n",
       "      <td>1</td>\n",
       "    </tr>\n",
       "  </tbody>\n",
       "</table>\n",
       "<p>960000 rows × 26 columns</p>\n",
       "</div>"
      ],
      "text/plain": [
       "              ID Feature          X          Y          Z      0.05       0.1  \\\n",
       "0            1.0     eet  -1.217015   9.605834  12.868542  0.009123  0.028492   \n",
       "1            1.0     pln  -1.217015   9.605834  12.868542  0.504139  0.718633   \n",
       "2            1.0     lnr  -1.217015   9.605834  12.868542  0.228755  0.087486   \n",
       "3            2.0     eet   5.614500   7.809000  12.703750  0.009634  0.027650   \n",
       "4            2.0     pln   5.614500   7.809000  12.703750  0.605983  0.749310   \n",
       "...          ...     ...        ...        ...        ...       ...       ...   \n",
       "959995  319999.0     pln -28.999500  12.733000  13.964000  0.354523  0.306881   \n",
       "959996  319999.0     lnr -28.999500  12.733000  13.964000  0.099792  0.297157   \n",
       "959997  320000.0     eet  -2.114515   7.881634  10.915292  0.010208  0.033108   \n",
       "959998  320000.0     pln  -2.114515   7.881634  10.915292  0.556721  0.279945   \n",
       "959999  320000.0     lnr  -2.114515   7.881634  10.915292  0.045290  0.291880   \n",
       "\n",
       "            0.15       0.2      0.25  ...       0.6      0.65       0.7  \\\n",
       "0       0.048137  0.072138  0.111565  ...  0.493622  0.551709  0.611433   \n",
       "1       0.581406  0.353408  0.200452  ...  0.086507  0.106281  0.146510   \n",
       "2       0.307852  0.526284  0.623806  ...  0.502120  0.513251  0.514513   \n",
       "3       0.057777  0.092929  0.129222  ...  0.405972  0.487673  0.544681   \n",
       "4       0.314200  0.221937  0.398596  ...  0.262406  0.169332  0.111424   \n",
       "...          ...       ...       ...  ...       ...       ...       ...   \n",
       "959995  0.304572  0.262041  0.270267  ...  0.105064  0.063420  0.066048   \n",
       "959996  0.260421  0.406861  0.375552  ...  0.577973  0.607442  0.575644   \n",
       "959997  0.056588  0.085469  0.118940  ...  0.470754  0.520687  0.577135   \n",
       "959998  0.286952  0.235921  0.196030  ...  0.367097  0.296408  0.196038   \n",
       "959999  0.375655  0.492688  0.591413  ...  0.121591  0.199223  0.273165   \n",
       "\n",
       "            0.75       0.8      0.85       0.9      0.95         1  Label  \n",
       "0       0.660348  0.698846  0.733547  0.776131  0.827058  0.871621      1  \n",
       "1       0.150176  0.162844  0.174045  0.198820  0.221131  0.248961      1  \n",
       "2       0.546258  0.554900  0.560645  0.541777  0.507077  0.465792      1  \n",
       "3       0.588438  0.636624  0.681728  0.715538  0.747381  0.786171      1  \n",
       "4       0.136674  0.214696  0.267766  0.350590  0.460112  0.486856      1  \n",
       "...          ...       ...       ...       ...       ...       ...    ...  \n",
       "959995  0.220701  0.244300  0.265468  0.278936  0.316067  0.332315      1  \n",
       "959996  0.425919  0.391237  0.343409  0.263866  0.172647  0.130121      1  \n",
       "959997  0.637429  0.694187  0.739115  0.775346  0.808241  0.841436      1  \n",
       "959998  0.115270  0.204719  0.269311  0.311610  0.335434  0.340747      1  \n",
       "959999  0.327681  0.253832  0.208747  0.174849  0.144963  0.137655      1  \n",
       "\n",
       "[960000 rows x 26 columns]"
      ]
     },
     "execution_count": 7,
     "metadata": {},
     "output_type": "execute_result"
    }
   ],
   "source": [
    "Training_copy"
   ]
  },
  {
   "cell_type": "code",
   "execution_count": null,
   "id": "16148bb0",
   "metadata": {
    "ExecuteTime": {
     "end_time": "2022-04-28T16:09:16.884381Z",
     "start_time": "2022-04-28T16:09:16.773644Z"
    }
   },
   "outputs": [],
   "source": [
    "window_length = 3\n",
    "stride = None\n",
    "start = 0\n",
    "get_x = training.columns[:-1]\n",
    "get_y = \"Label\"\n",
    "horizon = 0\n",
    "seq_first = True\n",
    "X, Y = SlidingWindow(window_length, stride = stride, start=start, get_x =get_x, get_y =get_y, horizon = horizon, seq_first = seq_first)(training)\n",
    "X.shape"
   ]
  },
  {
   "cell_type": "code",
   "execution_count": null,
   "id": "1236c390",
   "metadata": {
    "ExecuteTime": {
     "end_time": "2022-04-28T16:09:18.039819Z",
     "start_time": "2022-04-28T16:09:17.897909Z"
    }
   },
   "outputs": [],
   "source": [
    "X_train, X_test, y_train, y_test = train_test_split(X, Y, test_size = 0.2, stratify =Y, random_state=45)"
   ]
  },
  {
   "cell_type": "code",
   "execution_count": null,
   "id": "a9840036",
   "metadata": {
    "ExecuteTime": {
     "end_time": "2022-04-28T16:09:19.112439Z",
     "start_time": "2022-04-28T16:09:19.067087Z"
    }
   },
   "outputs": [],
   "source": [
    "x = np.concatenate((X_train, X_test), axis=0)\n",
    "y = np.concatenate((y_train, y_test), axis=0)"
   ]
  },
  {
   "cell_type": "code",
   "execution_count": null,
   "id": "d03ae94f",
   "metadata": {
    "ExecuteTime": {
     "end_time": "2022-04-28T16:09:22.060754Z",
     "start_time": "2022-04-28T16:09:20.108383Z"
    }
   },
   "outputs": [],
   "source": [
    "scalers = {}\n",
    "for i in range(x.shape[1]):\n",
    "    scalers[i] = StandardScaler()\n",
    "    x[:, i, :] = scalers[i].fit_transform(x[:, i, :])"
   ]
  },
  {
   "cell_type": "code",
   "execution_count": null,
   "id": "366c63e5",
   "metadata": {
    "ExecuteTime": {
     "end_time": "2022-04-28T16:09:23.038719Z",
     "start_time": "2022-04-28T16:09:23.025528Z"
    }
   },
   "outputs": [],
   "source": [
    "seed = 8\n",
    "np.random.seed(seed)"
   ]
  },
  {
   "cell_type": "code",
   "execution_count": null,
   "id": "9f79ffe3",
   "metadata": {
    "ExecuteTime": {
     "end_time": "2022-04-28T16:09:23.972904Z",
     "start_time": "2022-04-28T16:09:23.957732Z"
    }
   },
   "outputs": [],
   "source": [
    "kfold = StratifiedKFold(n_splits=5, shuffle=True, random_state=seed)\n",
    "cvscores = []"
   ]
  },
  {
   "cell_type": "code",
   "execution_count": null,
   "id": "53a6e490",
   "metadata": {
    "ExecuteTime": {
     "end_time": "2022-04-28T16:09:24.939206Z",
     "start_time": "2022-04-28T16:09:24.894946Z"
    }
   },
   "outputs": [],
   "source": [
    "METRICS = [\n",
    "    keras.metrics.TruePositives(name = \"tp\"),\n",
    "    keras.metrics.FalsePositives(name = \"fp\"),\n",
    "    keras.metrics.TrueNegatives(name = \"tn\"),\n",
    "    keras.metrics.FalseNegatives(name = \"fn\"),\n",
    "    keras.metrics.BinaryAccuracy(name = \"accuracy\"),\n",
    "    keras.metrics.Precision(name = \"precision\"),\n",
    "    keras.metrics.Recall(name = \"recall\"),\n",
    "    keras.metrics.AUC(name=\"auc\"),\n",
    "    keras.metrics.AUC(name=\"prc\", curve=\"PR\")\n",
    "]"
   ]
  },
  {
   "cell_type": "code",
   "execution_count": null,
   "id": "11c391c9",
   "metadata": {
    "ExecuteTime": {
     "end_time": "2022-04-28T16:09:25.872716Z",
     "start_time": "2022-04-28T16:09:25.858351Z"
    }
   },
   "outputs": [],
   "source": [
    "def showResults(test, pred):\n",
    "    print(classification_report(test, pred))\n",
    "    accuracy = accuracy_score(test, pred)\n",
    "    precision=precision_score(test, pred, average='weighted',labels=np.unique(pred))\n",
    "    f1Score=f1_score(test, pred, average='weighted',labels=np.unique(pred)) \n",
    "    print(\"Accuracy  : {}\".format(accuracy))\n",
    "    print(\"Precision : {}\".format(precision))\n",
    "    print(\"f1Score : {}\".format(f1Score))\n",
    "    cm=confusion_matrix(test, pred)\n",
    "    print(cm)"
   ]
  },
  {
   "cell_type": "code",
   "execution_count": null,
   "id": "8f38c369",
   "metadata": {},
   "outputs": [],
   "source": []
  },
  {
   "cell_type": "code",
   "execution_count": null,
   "id": "8b349d1f",
   "metadata": {
    "ExecuteTime": {
     "end_time": "2022-04-28T16:09:27.830751Z",
     "start_time": "2022-04-28T16:09:26.792401Z"
    }
   },
   "outputs": [],
   "source": [
    "# LSTM-FCN\n",
    "for train, valid in kfold.split(x, y):\n",
    "    def generate_lstmfcn(input_shape):\n",
    "        input_layer = keras.layers.Input(input_shape)\n",
    "\n",
    "        x = keras.layers.LSTM(8)(input_layer)\n",
    "        x = keras.layers.Dropout(0.8)(x)\n",
    "\n",
    "        y = keras.layers.Permute((2, 1))(input_layer)\n",
    "        y = keras.layers.Conv1D(128, 8, padding='same', kernel_initializer='he_uniform',kernel_regularizer= keras.regularizers.l2(0.001))(y)\n",
    "        y = keras.layers.BatchNormalization()(y)\n",
    "        y = keras.layers.Activation('relu')(y)\n",
    "\n",
    "        y = keras.layers.Conv1D(256, 5, padding='same', kernel_initializer='he_uniform',kernel_regularizer= keras.regularizers.l2(0.001))(y)\n",
    "        y = keras.layers.BatchNormalization()(y)\n",
    "        y = keras.layers.Activation('relu')(y)\n",
    "\n",
    "        y = keras.layers.Conv1D(128, 3, padding='same', kernel_initializer='he_uniform',kernel_regularizer= keras.regularizers.l2(0.001))(y)\n",
    "        y = keras.layers.BatchNormalization()(y)\n",
    "        y = keras.layers.Activation('relu')(y)\n",
    "\n",
    "        y = keras.layers.GlobalAveragePooling1D()(y)\n",
    "\n",
    "        x = keras.layers.concatenate([x, y])\n",
    "\n",
    "        output_layer = keras.layers.Dense(1, activation='sigmoid')(x)\n",
    "\n",
    "        return keras.models.Model(inputs=input_layer, outputs=output_layer)\n",
    "\n",
    "    model =  generate_lstmfcn(input_shape=X_train.shape[1:]) \n",
    "    \n",
    "    EPOCHS = 100\n",
    "    BATCH_SIZE = 256\n",
    "    \n",
    "    callbacks = [\n",
    "        keras.callbacks.ReduceLROnPlateau(\n",
    "           monitor=\"val_loss\", factor=0.5, patience=10, min_lr=0.0001\n",
    "        ),\n",
    "        keras.callbacks.EarlyStopping(monitor=\"val_loss\", patience=10, verbose=1),\n",
    "    ]\n",
    "    \n",
    "    model.compile(\n",
    "         optimizer=\"Adam\",\n",
    "         loss=\"binary_crossentropy\",\n",
    "         metrics=METRICS,)\n",
    "    \n",
    "    model_history = model.fit(\n",
    "       x[train],\n",
    "       y[train],\n",
    "       batch_size=BATCH_SIZE,\n",
    "       epochs=EPOCHS,\n",
    "       validation_data = (x[valid],y[valid]),\n",
    "       callbacks=callbacks,\n",
    "       verbose=1,)\n",
    "    \n",
    "    yclasses = (model.predict(x[valid]) > 0.5).astype(\"int32\")\n",
    "    showResults(y[valid], yclasses)"
   ]
  },
  {
   "cell_type": "code",
   "execution_count": null,
   "id": "dfb7f60a",
   "metadata": {},
   "outputs": [],
   "source": [
    "# Residual networks\n",
    "for train, valid in kfold.split(x, y):\n",
    "    def build_model(input_shape):\n",
    "        n_feature_maps=64\n",
    "        input_layer = keras.layers.Input(input_shape)\n",
    "\n",
    "        conv_x = keras.layers.Conv1D(filters=n_feature_maps, kernel_size=8, padding='same',kernel_regularizer= keras.regularizers.l2(0.001))(input_layer)\n",
    "        conv_x = keras.layers.BatchNormalization()(conv_x)\n",
    "        conv_x = keras.layers.Activation('relu')(conv_x)\n",
    "\n",
    "        conv_y = keras.layers.Conv1D(filters=n_feature_maps, kernel_size=5, padding='same',kernel_regularizer= keras.regularizers.l2(0.001))(conv_x)\n",
    "        conv_y = keras.layers.BatchNormalization()(conv_y)\n",
    "        conv_y = keras.layers.Activation('relu')(conv_y)\n",
    "\n",
    "        conv_z = keras.layers.Conv1D(filters=n_feature_maps, kernel_size=3, padding='same',kernel_regularizer= keras.regularizers.l2(0.001))(conv_y)\n",
    "        conv_z = keras.layers.BatchNormalization()(conv_z)\n",
    "\n",
    "        shortcut_y = keras.layers.Conv1D(filters=n_feature_maps, kernel_size=1, padding='same',kernel_regularizer= keras.regularizers.l2(0.001))(input_layer)\n",
    "        shortcut_y = keras.layers.BatchNormalization()(shortcut_y)\n",
    "\n",
    "        output_block_1 = keras.layers.add([shortcut_y, conv_z])\n",
    "        output_block_1 = keras.layers.Activation('relu')(output_block_1)\n",
    "\n",
    "        conv_x = keras.layers.Conv1D(filters=n_feature_maps * 2, kernel_size=8, padding='same',kernel_regularizer= keras.regularizers.l2(0.001))(output_block_1)\n",
    "        conv_x = keras.layers.BatchNormalization()(conv_x)\n",
    "        conv_x = keras.layers.Activation('relu')(conv_x)\n",
    "\n",
    "        conv_y = keras.layers.Conv1D(filters=n_feature_maps * 2, kernel_size=5, padding='same',kernel_regularizer= keras.regularizers.l2(0.001))(conv_x)\n",
    "        conv_y = keras.layers.BatchNormalization()(conv_y)\n",
    "        conv_y = keras.layers.Activation('relu')(conv_y)\n",
    "\n",
    "        conv_z = keras.layers.Conv1D(filters=n_feature_maps * 2, kernel_size=3, padding='same',kernel_regularizer= keras.regularizers.l2(0.001))(conv_y)\n",
    "        conv_z = keras.layers.BatchNormalization()(conv_z)\n",
    "\n",
    "        # expand channels for the sum\n",
    "        shortcut_y = keras.layers.Conv1D(filters=n_feature_maps * 2, kernel_size=1, padding='same',kernel_regularizer= keras.regularizers.l2(0.001))(output_block_1)\n",
    "        shortcut_y = keras.layers.BatchNormalization()(shortcut_y)\n",
    "\n",
    "        output_block_2 = keras.layers.add([shortcut_y, conv_z])\n",
    "        output_block_2 = keras.layers.Activation('relu')(output_block_2)\n",
    "\n",
    "        conv_x = keras.layers.Conv1D(filters=n_feature_maps * 2, kernel_size=8, padding='same',kernel_regularizer= keras.regularizers.l2(0.001))(output_block_2)\n",
    "        conv_x = keras.layers.BatchNormalization()(conv_x)\n",
    "        conv_x = keras.layers.Activation('relu')(conv_x)\n",
    "\n",
    "        conv_y = keras.layers.Conv1D(filters=n_feature_maps * 2, kernel_size=5, padding='same',kernel_regularizer= keras.regularizers.l2(0.001))(conv_x)\n",
    "        conv_y = keras.layers.BatchNormalization()(conv_y)\n",
    "        conv_y = keras.layers.Activation('relu')(conv_y)\n",
    "\n",
    "        conv_z = keras.layers.Conv1D(filters=n_feature_maps * 2, kernel_size=3, padding='same',kernel_regularizer= keras.regularizers.l2(0.001))(conv_y)\n",
    "        conv_z = keras.layers.BatchNormalization()(conv_z)\n",
    "\n",
    "            # no need to expand channels because they are equal\n",
    "        shortcut_y = keras.layers.BatchNormalization()(output_block_2)\n",
    "\n",
    "        output_block_3 = keras.layers.add([shortcut_y, conv_z])\n",
    "        output_block_3 = keras.layers.Activation('relu')(output_block_3)\n",
    "\n",
    "        gap_layer = keras.layers.GlobalAveragePooling1D()(output_block_3)\n",
    "\n",
    "        output_layer = keras.layers.Dense(1, activation='sigmoid')(gap_layer)\n",
    "\n",
    "        return keras.models.Model(inputs=input_layer, outputs=output_layer)\n",
    "\n",
    "    model = build_model(input_shape=X.shape[1:])\n",
    "    \n",
    "    EPOCHS = 100\n",
    "    BATCH_SIZE = 256\n",
    "    \n",
    "    callbacks = [\n",
    "        keras.callbacks.ReduceLROnPlateau(\n",
    "           monitor=\"val_loss\", factor=0.5, patience=10, min_lr=0.0001\n",
    "        ),\n",
    "        keras.callbacks.EarlyStopping(monitor=\"val_loss\", patience=10, verbose=1),\n",
    "    ]\n",
    "    \n",
    "    model.compile(\n",
    "         optimizer=\"Adam\",\n",
    "         loss=\"binary_crossentropy\",\n",
    "         metrics=METRICS,)\n",
    "    \n",
    "    model_history = model.fit(\n",
    "       x[train],\n",
    "       y[train],\n",
    "       batch_size=BATCH_SIZE,\n",
    "       epochs=EPOCHS,\n",
    "       validation_data = (x[valid],y[valid]),\n",
    "       callbacks=callbacks,\n",
    "       verbose=1,)\n",
    "    \n",
    "    yclasses = (model.predict(x[valid]) > 0.5).astype(\"int32\")\n",
    "    showResults(y[valid], yclasses)"
   ]
  },
  {
   "cell_type": "code",
   "execution_count": null,
   "id": "2c0024aa",
   "metadata": {
    "ExecuteTime": {
     "end_time": "2022-04-26T15:25:16.669070Z",
     "start_time": "2022-04-26T15:25:16.532004Z"
    }
   },
   "outputs": [],
   "source": [
    "nb_epoch =len(model_history.history['loss'])\n",
    "learning_rate = model_history.history['lr']\n",
    "xc = range(nb_epoch)\n",
    "plt.figure(3, figsize= (7,5))\n",
    "plt.plot(xc, learning_rate)\n",
    "plt.xlabel('num of Epochs',fontsize = 16)\n",
    "plt.ylabel('learning rate',fontsize = 16)\n",
    "plt.title('Learning rate',fontsize = 20)\n",
    "plt.grid(True)\n",
    "plt.style.use('seaborn-ticks')"
   ]
  },
  {
   "cell_type": "code",
   "execution_count": null,
   "id": "672aab81",
   "metadata": {
    "ExecuteTime": {
     "end_time": "2022-04-26T15:25:29.987967Z",
     "start_time": "2022-04-26T15:25:17.709002Z"
    }
   },
   "outputs": [],
   "source": [
    "scores = model.evaluate(x[train], y[train], verbose=0)\n",
    "scores"
   ]
  },
  {
   "cell_type": "code",
   "execution_count": null,
   "id": "bbe71e6f",
   "metadata": {
    "ExecuteTime": {
     "end_time": "2022-04-26T15:25:34.159214Z",
     "start_time": "2022-04-26T15:25:30.465758Z"
    }
   },
   "outputs": [],
   "source": [
    "model.save(\"./total_model\")"
   ]
  },
  {
   "cell_type": "code",
   "execution_count": null,
   "id": "0102f169",
   "metadata": {
    "ExecuteTime": {
     "end_time": "2022-04-27T21:23:29.569934Z",
     "start_time": "2022-04-27T21:23:29.002452Z"
    }
   },
   "outputs": [],
   "source": [
    "path = r\"./testing.txt\"\n",
    "Testing_timestep = pd.read_csv(path, sep = \" \")\n",
    "Testing = pd.DataFrame(Testing_timestep)\n",
    "Testing_copy = Testing.copy()"
   ]
  },
  {
   "cell_type": "code",
   "execution_count": null,
   "id": "c2ce0b3d",
   "metadata": {
    "ExecuteTime": {
     "end_time": "2022-04-27T21:23:46.101751Z",
     "start_time": "2022-04-27T21:23:46.072825Z"
    }
   },
   "outputs": [],
   "source": [
    "testing = Testing_copy.iloc[:, 5:]"
   ]
  },
  {
   "cell_type": "code",
   "execution_count": null,
   "id": "df92169c",
   "metadata": {
    "ExecuteTime": {
     "end_time": "2022-04-27T21:24:02.495929Z",
     "start_time": "2022-04-27T21:24:02.453043Z"
    }
   },
   "outputs": [],
   "source": [
    "window_length =3\n",
    "stride = None\n",
    "start = 0\n",
    "get_x = testing.columns[:-1]\n",
    "get_y = \"Label\"\n",
    "horizon = 0\n",
    "seq_first = True\n",
    "X_test, Y_test = SlidingWindow(window_length, stride = stride, start=start, get_x =get_x, get_y =get_y, horizon = horizon, seq_first = seq_first)(testing)\n",
    "X_test.shape"
   ]
  },
  {
   "cell_type": "code",
   "execution_count": null,
   "id": "473e16fb",
   "metadata": {
    "ExecuteTime": {
     "end_time": "2022-04-27T21:24:16.614082Z",
     "start_time": "2022-04-27T21:24:16.379710Z"
    }
   },
   "outputs": [],
   "source": [
    "scalers = {}\n",
    "for i in range(X_test.shape[1]):\n",
    "    scalers[i] = StandardScaler()\n",
    "    X_test[:, i, :] = scalers[i].fit_transform(X_test[:, i, :])"
   ]
  },
  {
   "cell_type": "code",
   "execution_count": null,
   "id": "5ae47b73",
   "metadata": {
    "ExecuteTime": {
     "end_time": "2022-04-27T21:24:41.872570Z",
     "start_time": "2022-04-27T21:24:32.168508Z"
    }
   },
   "outputs": [],
   "source": [
    "train_prediction = model.predict(x[train], batch_size =BATCH_SIZE)\n",
    "test_prediction = model.predict(X_test, batch_size=BATCH_SIZE)"
   ]
  },
  {
   "cell_type": "code",
   "execution_count": null,
   "id": "08a906b9",
   "metadata": {
    "ExecuteTime": {
     "end_time": "2022-04-27T21:24:57.484841Z",
     "start_time": "2022-04-27T21:24:57.471876Z"
    }
   },
   "outputs": [],
   "source": [
    "test_prediction.shape"
   ]
  },
  {
   "cell_type": "code",
   "execution_count": null,
   "id": "5469125c",
   "metadata": {
    "ExecuteTime": {
     "end_time": "2022-04-27T21:25:14.030617Z",
     "start_time": "2022-04-27T21:25:14.017652Z"
    }
   },
   "outputs": [],
   "source": [
    "def plot_cm(labels, predictions, p=0.5):\n",
    "  cm = confusion_matrix(labels, predictions > p)\n",
    "  plt.figure(figsize=(5,5))\n",
    "  sns.heatmap(cm, annot=True, fmt=\"d\")\n",
    "  plt.title('Confusion matrix @{:.2f}'.format(p))\n",
    "  plt.ylabel('Actual label')\n",
    "  plt.xlabel('Predicted label')"
   ]
  },
  {
   "cell_type": "code",
   "execution_count": null,
   "id": "65a774ad",
   "metadata": {
    "ExecuteTime": {
     "end_time": "2022-04-27T21:25:31.351321Z",
     "start_time": "2022-04-27T21:25:29.809443Z"
    }
   },
   "outputs": [],
   "source": [
    "model_result = model.evaluate(X_test, Y_test, batch_size= BATCH_SIZE, verbose=0)\n",
    "for name, value in zip(model.metrics_names, model_result):\n",
    "    print(name, ': ', value)\n",
    "print()\n",
    "\n",
    "plot_cm(Y_test, test_prediction)"
   ]
  },
  {
   "cell_type": "markdown",
   "id": "8eeed28b",
   "metadata": {},
   "source": []
  },
  {
   "cell_type": "code",
   "execution_count": null,
   "id": "3f38be82",
   "metadata": {},
   "outputs": [],
   "source": [
    "def plot_prc(name, labels, predictions, **kwargs):\n",
    "    precision, recall, _ = sklearn.metrics.precision_recall_curve(labels, predictions)\n",
    "\n",
    "    plt.plot(precision, recall, label=name, linewidth=2, **kwargs)\n",
    "    plt.xlabel('Recall',fontsize = 18)\n",
    "    plt.ylabel('Precision', fontsize =18)\n",
    "    plt.xlim([0,1])\n",
    "    plt.ylim([0,1])\n",
    "    plt.grid(True)\n",
    "    ax = plt.gca()\n",
    "    ax.set_aspect('equal')"
   ]
  },
  {
   "cell_type": "code",
   "execution_count": null,
   "id": "ac4d504e",
   "metadata": {},
   "outputs": [],
   "source": [
    "plot_prc(\"Train\", y[train] , train_prediction, color=colors[0])\n",
    "plot_prc(\"Test\",Y_test, test_prediction, color=colors[0], linestyle='--')\n",
    "plt.legend(loc='lower left')"
   ]
  },
  {
   "cell_type": "code",
   "execution_count": null,
   "id": "a8a35284",
   "metadata": {},
   "outputs": [],
   "source": [
    "SMALL_SIZE = 10\n",
    "MEDIUM_SIZE = 12\n",
    "BIGGER_SIZE = 16\n",
    "\n",
    "plt.rc('font',size = BIGGER_SIZE)\n",
    "plt.rc('axes',titlesize = BIGGER_SIZE)\n",
    "plt.rc('axes', labelsize = MEDIUM_SIZE)\n",
    "plt.rc('xtick', labelsize = BIGGER_SIZE)\n",
    "plt.rc('ytick', labelsize =BIGGER_SIZE)\n",
    "plt.rc('legend', fontsize = BIGGER_SIZE)\n",
    "plt.rc('figure', titlesize = BIGGER_SIZE)\n"
   ]
  },
  {
   "cell_type": "code",
   "execution_count": null,
   "id": "ebde716d",
   "metadata": {},
   "outputs": [],
   "source": [
    "def plot_metrics(history):\n",
    "  metrics = ['accuracy']\n",
    "  for n, metric in enumerate(metrics):\n",
    "    name = metric.replace(\"_\",\" \").capitalize()\n",
    "    plt.plot(history.epoch, history.history[metric], color=colors[0], label='Train')\n",
    "    plt.plot(history.epoch, history.history['val_'+metric],\n",
    "             color=colors[0], linestyle=\"--\", label='Val')\n",
    "    plt.xlabel('Epoch', fontsize = 18)\n",
    "    plt.ylabel(name, fontsize = 18)\n",
    "    if metric == 'loss':\n",
    "      plt.ylim([0, plt.ylim()[1]])\n",
    "    elif metric == 'auc':\n",
    "      plt.ylim([0.8,1])\n",
    "    else:\n",
    "      plt.ylim([0,1])\n",
    "\n",
    "    plt.legend(loc='lower right')"
   ]
  },
  {
   "cell_type": "code",
   "execution_count": null,
   "id": "c995b66c",
   "metadata": {},
   "outputs": [],
   "source": [
    "plot_metrics(model_history)"
   ]
  },
  {
   "cell_type": "code",
   "execution_count": null,
   "id": "524ee0b5",
   "metadata": {},
   "outputs": [],
   "source": [
    "def plot_roc(name, labels, predictions, **kwargs):\n",
    "  fp, tp, _ = sklearn.metrics.roc_curve(labels, predictions)\n",
    "\n",
    "  plt.plot(100*fp, 100*tp, label=name, linewidth=2, **kwargs)\n",
    "  plt.xlabel('False positives [%]', fontsize = 18)\n",
    "  plt.ylabel('True positives [%]', fontsize = 18)\n",
    "  plt.xlim([-0.5,100])\n",
    "  plt.ylim([0,100.5])\n",
    "  plt.grid(True)\n",
    "  ax = plt.gca()\n",
    "  ax.set_aspect('equal')"
   ]
  },
  {
   "cell_type": "code",
   "execution_count": null,
   "id": "80456fa5",
   "metadata": {},
   "outputs": [],
   "source": [
    "plot_roc(\"Train\", y[train] , train_prediction, color=colors[0])\n",
    "plot_roc(\"Test\", Y_test, test_prediction, color=colors[0], linestyle='--')\n",
    "plt.legend(loc='lower right')"
   ]
  },
  {
   "cell_type": "code",
   "execution_count": null,
   "id": "86cdc401",
   "metadata": {},
   "outputs": [],
   "source": [
    "path = r\"./testing.txt\"\n",
    "S1_timestep = pd.read_csv(path, sep = \" \")\n",
    "S1 = pd.DataFrame(S1_timestep)\n",
    "S1_copy = S1.copy()"
   ]
  },
  {
   "cell_type": "code",
   "execution_count": null,
   "id": "a68a2824",
   "metadata": {},
   "outputs": [],
   "source": [
    "s1 = S1_copy.iloc[:, 5:]"
   ]
  },
  {
   "cell_type": "code",
   "execution_count": null,
   "id": "f38c5826",
   "metadata": {},
   "outputs": [],
   "source": [
    "window_length =3\n",
    "stride = None\n",
    "start = 0\n",
    "get_x = s1.columns[:-1]\n",
    "get_y = \"Label\"\n",
    "horizon = 0\n",
    "seq_first = True\n",
    "X_S1, Y_S1 = SlidingWindow(window_length, stride = stride, start=start, get_x =get_x, get_y =get_y, horizon = horizon, seq_first = seq_first)(s1)\n",
    "X_S1.shape"
   ]
  },
  {
   "cell_type": "code",
   "execution_count": null,
   "id": "8f3ef24a",
   "metadata": {},
   "outputs": [],
   "source": [
    "scalers = {}\n",
    "for i in range(X_S1.shape[1]):\n",
    "    scalers[i] = StandardScaler()\n",
    "    X_S1[:, i, :] = scalers[i].fit_transform(X_S1[:, i, :])"
   ]
  },
  {
   "cell_type": "code",
   "execution_count": null,
   "id": "9bdb2bad",
   "metadata": {},
   "outputs": [],
   "source": [
    "s1_predicted = (model.predict(X_S1) > 0.5).astype(\"int32\")"
   ]
  },
  {
   "cell_type": "code",
   "execution_count": null,
   "id": "1c6b1a19",
   "metadata": {},
   "outputs": [],
   "source": [
    "np.savetxt(\"./S6total_label.txt\",s1_predicted)"
   ]
  },
  {
   "cell_type": "code",
   "execution_count": null,
   "id": "301cbdbc",
   "metadata": {},
   "outputs": [],
   "source": [
    "len(s1_predicted)"
   ]
  },
  {
   "cell_type": "code",
   "execution_count": null,
   "id": "d80e7bf3",
   "metadata": {},
   "outputs": [],
   "source": [
    "new_input_layer = model.inputs\n",
    "    # output is both the original as well as the before last layer\n",
    "new_output_layer = [model.layers[-3].output, model.layers[-1].output]\n",
    "\n",
    "new_feed_forward = keras.backend.function(new_input_layer, new_output_layer)\n",
    "\n",
    "classes = np.unique(Y_test)"
   ]
  },
  {
   "cell_type": "code",
   "execution_count": null,
   "id": "2711891a",
   "metadata": {},
   "outputs": [],
   "source": [
    "cas = np.zeros(dtype=np.float, shape=(conv_out.shape[1]))"
   ]
  },
  {
   "cell_type": "code",
   "execution_count": null,
   "id": "36f2cf17",
   "metadata": {},
   "outputs": [],
   "source": [
    "from scipy.interpolate import interp1d"
   ]
  },
  {
   "cell_type": "code",
   "execution_count": null,
   "id": "43b15be7",
   "metadata": {},
   "outputs": [],
   "source": [
    "for c in classes:\n",
    "        plt.figure()\n",
    "        count = 0\n",
    "        c_x_test = X_test[np.where(Y_test == 0)]\n",
    "        for ts in c_x_test:\n",
    "            ts = ts.reshape(1,-1,3)\n",
    "            [conv_out, predicted] = new_feed_forward([ts])\n",
    "            pred_label = np.argmax(predicted)\n",
    "            orig_label = np.argmax(enc.transform([[c]]))\n",
    "            if pred_label == 0:\n",
    "                cas = np.zeros(dtype=np.float, shape=(conv_out.shape[1]))\n",
    "                for k, w in enumerate(w_k_c[:, orig_label]):\n",
    "                    cas += w * conv_out[0, :, k]\n",
    "\n",
    "                minimum = np.min(cas)\n",
    "\n",
    "                cas = cas - minimum\n",
    "\n",
    "                cas = cas / np.max(cas)\n",
    "                cas = cas * 100\n",
    "\n",
    "                x = np.linspace(0, ts.shape[1] - 1, max_length, endpoint=True)\n",
    "                # linear interpolation to smooth\n",
    "                f = interp1d(range(ts.shape[1]), ts[0, :, 0])\n",
    "                y = f(x)\n",
    "                f = interp1d(range(ts.shape[1]), cas)\n",
    "                cas = f(x).astype(int)\n",
    "                plt.scatter(x=x, y=y, c=cas, cmap='jet', marker='.', s=2, vmin=0, vmax=100, linewidths=0.0)\n",
    "              \n",
    "                count += 1\n",
    "        cbar = plt.colorbar()\n",
    "        plt.savefig(\"./fcn\" + \"-cam-\" + \"11\" + \"-class-\" + str(int((c)))+ \".png\", bbox_inches = 'tight', dpi =600)"
   ]
  }
 ],
 "metadata": {
  "kernelspec": {
   "display_name": "Python 3",
   "language": "python",
   "name": "python3"
  },
  "language_info": {
   "codemirror_mode": {
    "name": "ipython",
    "version": 3
   },
   "file_extension": ".py",
   "mimetype": "text/x-python",
   "name": "python",
   "nbconvert_exporter": "python",
   "pygments_lexer": "ipython3",
   "version": "3.8.10"
  },
  "toc": {
   "base_numbering": 1,
   "nav_menu": {},
   "number_sections": true,
   "sideBar": true,
   "skip_h1_title": false,
   "title_cell": "Table of Contents",
   "title_sidebar": "Contents",
   "toc_cell": false,
   "toc_position": {},
   "toc_section_display": true,
   "toc_window_display": false
  },
  "varInspector": {
   "cols": {
    "lenName": 16,
    "lenType": 16,
    "lenVar": 40
   },
   "kernels_config": {
    "python": {
     "delete_cmd_postfix": "",
     "delete_cmd_prefix": "del ",
     "library": "var_list.py",
     "varRefreshCmd": "print(var_dic_list())"
    },
    "r": {
     "delete_cmd_postfix": ") ",
     "delete_cmd_prefix": "rm(",
     "library": "var_list.r",
     "varRefreshCmd": "cat(var_dic_list()) "
    }
   },
   "types_to_exclude": [
    "module",
    "function",
    "builtin_function_or_method",
    "instance",
    "_Feature"
   ],
   "window_display": false
  }
 },
 "nbformat": 4,
 "nbformat_minor": 5
}
